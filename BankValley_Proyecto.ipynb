{
  "nbformat": 4,
  "nbformat_minor": 0,
  "metadata": {
    "colab": {
      "provenance": [],
      "authorship_tag": "ABX9TyMIfGeHVgUBAGQxpEEXIv9O",
      "include_colab_link": true
    },
    "kernelspec": {
      "name": "python3",
      "display_name": "Python 3"
    },
    "language_info": {
      "name": "python"
    }
  },
  "cells": [
    {
      "cell_type": "markdown",
      "metadata": {
        "id": "view-in-github",
        "colab_type": "text"
      },
      "source": [
        "<a href=\"https://colab.research.google.com/github/decastrosantos/BankValley_Proyecto/blob/main/BankValley_Proyecto.ipynb\" target=\"_parent\"><img src=\"https://colab.research.google.com/assets/colab-badge.svg\" alt=\"Open In Colab\"/></a>"
      ]
    },
    {
      "cell_type": "code",
      "execution_count": null,
      "metadata": {
        "id": "iU1Zz1zGF4Ue"
      },
      "outputs": [],
      "source": [
        "import pandas as pd\n",
        "import numpy as np\n",
        "import random\n",
        "\n",
        "from sklearn.model_selection import train_test_split\n",
        "from sklearn.tree import DecisionTreeClassifier, export_text\n",
        "from sklearn.metrics import classification_report\n",
        "\n",
        "# Cargar el dataset > Dataset ficticio simulado para scoring hipotecario\n",
        "data = pd.read_csv(\"bankvalley_internal_clients.csv\")\n",
        "data.head()\n",
        "\n",
        "# Variables independientes y dependiente\n",
        "X = data[[\n",
        "    \"age\", \"monthly_income\", \"is_paying_rent\", \"avg_rent_payment\",\n",
        "    \"web_visits_hipoteca\", \"used_simulator\", \"products_owned\", \"tenure_years\"\n",
        "]]\n",
        "y = data[\"score_target\"]\n",
        "\n",
        "# División train/test\n",
        "X_train, X_test, y_train, y_test = train_test_split(X, y, test_size=0.3, random_state=42)\n",
        "\n",
        "# Modelo de árbol de decisión\n",
        "clf = DecisionTreeClassifier(max_depth=4, random_state=42)\n",
        "clf.fit(X_train, y_train)\n",
        "\n",
        "# Predicciones\n",
        "y_pred = clf.predict(X_test)\n",
        "\n",
        "# Reporte de métricas\n",
        "report = classification_report(y_test, y_pred, output_dict=True)\n",
        "\n",
        "# Reglas del árbol para interpretación\n",
        "tree_rules = export_text(clf, feature_names=list(X.columns))\n",
        "\n",
        "\n"
      ]
    },
    {
      "cell_type": "markdown",
      "source": [
        "✅ Modelo de Scoring entrenado con Árbol de Decisión\n",
        "\n",
        "🧠 Reglas aprendidas por el modelo\n",
        "\n",
        "1. Si visitas sección de hipotecas ≤ 1 → No interesado (Clase 0)\n",
        "2. Si visitas > 1:\n",
        "   a. ¿No paga alquiler? → No interesado\n",
        "   b. ¿Paga alquiler?\n",
        "      i. ¿Ingreso ≤ €2.034? → No interesado\n",
        "      ii. ¿Ingreso > €2.034? → Interesado (Clase 1)\n",
        "      \n",
        "\n",
        "Esto significa que los factores más relevantes para identificar un potencial cliente de hipoteca son:\n",
        "\n",
        "🧭 Comportamiento digital (visitas a hipotecas)\n",
        "\n",
        "🏠 Si paga alquiler\n",
        "\n",
        "💸 Ingresos mensuales      "
      ],
      "metadata": {
        "id": "nid3erKEB6My"
      }
    },
    {
      "cell_type": "code",
      "source": [
        "tree_rules, report"
      ],
      "metadata": {
        "id": "eeS49qUoHBDp",
        "colab": {
          "base_uri": "https://localhost:8080/"
        },
        "outputId": "ae13d8c1-b23a-4f71-b997-85d96177d7b2"
      },
      "execution_count": null,
      "outputs": [
        {
          "output_type": "execute_result",
          "data": {
            "text/plain": [
              "('|--- web_visits_hipoteca <= 1.50\\n|   |--- class: 0\\n|--- web_visits_hipoteca >  1.50\\n|   |--- is_paying_rent <= 0.50\\n|   |   |--- class: 0\\n|   |--- is_paying_rent >  0.50\\n|   |   |--- monthly_income <= 2034.00\\n|   |   |   |--- class: 0\\n|   |   |--- monthly_income >  2034.00\\n|   |   |   |--- class: 1\\n',\n",
              " {'0': {'precision': 0.9852941176470589,\n",
              "   'recall': 1.0,\n",
              "   'f1-score': 0.9925925925925926,\n",
              "   'support': 67.0},\n",
              "  '1': {'precision': 1.0,\n",
              "   'recall': 0.9565217391304348,\n",
              "   'f1-score': 0.9777777777777777,\n",
              "   'support': 23.0},\n",
              "  'accuracy': 0.9888888888888889,\n",
              "  'macro avg': {'precision': 0.9926470588235294,\n",
              "   'recall': 0.9782608695652174,\n",
              "   'f1-score': 0.9851851851851852,\n",
              "   'support': 90.0},\n",
              "  'weighted avg': {'precision': 0.9890522875816994,\n",
              "   'recall': 0.9888888888888889,\n",
              "   'f1-score': 0.9888065843621399,\n",
              "   'support': 90.0}})"
            ]
          },
          "metadata": {},
          "execution_count": 13
        }
      ]
    },
    {
      "cell_type": "markdown",
      "source": [
        "\n",
        "📊 Métricas del modelo (con datos de test)\n",
        "\n",
        "Métrica | Valor\n",
        "\n",
        "Accuracy | 98.9%\n",
        "\n",
        "F1 Score (clientes interesados) | 97.8%\n",
        "\n",
        "Precision (interesados) | 100%\n",
        "\n",
        "Recall (interesados) | 95.7%\n",
        "\n",
        "\n"
      ],
      "metadata": {
        "id": "EYs81qRm4I-o"
      }
    },
    {
      "cell_type": "code",
      "source": [],
      "metadata": {
        "id": "ld7e89ApCo3x"
      },
      "execution_count": null,
      "outputs": []
    }
  ]
}